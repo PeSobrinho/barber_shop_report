{
 "cells": [
  {
   "cell_type": "markdown",
   "metadata": {},
   "source": [
    "# Barber shop report"
   ]
  },
  {
   "cell_type": "markdown",
   "metadata": {},
   "source": [
    "## EL"
   ]
  },
  {
   "cell_type": "markdown",
   "metadata": {},
   "source": [
    "### Load source data\n",
    "\n",
    "Load data from source (data/barbearia_dataset.csv) to sql database on cloud"
   ]
  },
  {
   "cell_type": "code",
   "execution_count": 1,
   "metadata": {},
   "outputs": [
    {
     "name": "stdout",
     "output_type": "stream",
     "text": [
      "Collecting psycopg2\n",
      "  Downloading psycopg2-2.9.9-cp310-cp310-win_amd64.whl (1.2 MB)\n",
      "     ---------------------------------------- 1.2/1.2 MB 9.2 MB/s eta 0:00:00\n",
      "Installing collected packages: psycopg2\n",
      "Successfully installed psycopg2-2.9.9\n"
     ]
    }
   ],
   "source": [
    "!pip install psycopg2"
   ]
  },
  {
   "cell_type": "code",
   "execution_count": 1,
   "metadata": {},
   "outputs": [],
   "source": [
    "import psycopg2"
   ]
  },
  {
   "cell_type": "code",
   "execution_count": 2,
   "metadata": {},
   "outputs": [],
   "source": [
    "user = input('user: ')"
   ]
  },
  {
   "cell_type": "code",
   "execution_count": 3,
   "metadata": {},
   "outputs": [],
   "source": [
    "password = input('password: ')"
   ]
  },
  {
   "cell_type": "code",
   "execution_count": 6,
   "metadata": {},
   "outputs": [],
   "source": [
    "user = user\n",
    "password = password\n",
    "host = 'capably-replete-rudd.data-1.use1.tembo.io'\n",
    "port = '5432'\n",
    "database = 'barber_shop'\n",
    "ssl_cert= '../configs/ca.crt'"
   ]
  },
  {
   "cell_type": "code",
   "execution_count": 7,
   "metadata": {},
   "outputs": [],
   "source": [
    "from sqlalchemy import create_engine"
   ]
  },
  {
   "cell_type": "code",
   "execution_count": 8,
   "metadata": {},
   "outputs": [],
   "source": [
    "engine = create_engine(f'postgresql+psycopg2://{user}:{password}@{host}:{port}/{database}?sslmode=verify-full&sslrootcert={ssl_cert}')"
   ]
  },
  {
   "cell_type": "code",
   "execution_count": 9,
   "metadata": {},
   "outputs": [],
   "source": [
    "import pandas as pd"
   ]
  },
  {
   "cell_type": "code",
   "execution_count": 10,
   "metadata": {},
   "outputs": [],
   "source": [
    "df = pd.read_csv('../data/barbearia_dataset.csv')"
   ]
  },
  {
   "cell_type": "code",
   "execution_count": 13,
   "metadata": {},
   "outputs": [],
   "source": [
    "df['data_carga'] = pd.Timestamp.now()"
   ]
  },
  {
   "cell_type": "code",
   "execution_count": 14,
   "metadata": {},
   "outputs": [
    {
     "data": {
      "text/html": [
       "<div>\n",
       "<style scoped>\n",
       "    .dataframe tbody tr th:only-of-type {\n",
       "        vertical-align: middle;\n",
       "    }\n",
       "\n",
       "    .dataframe tbody tr th {\n",
       "        vertical-align: top;\n",
       "    }\n",
       "\n",
       "    .dataframe thead th {\n",
       "        text-align: right;\n",
       "    }\n",
       "</style>\n",
       "<table border=\"1\" class=\"dataframe\">\n",
       "  <thead>\n",
       "    <tr style=\"text-align: right;\">\n",
       "      <th></th>\n",
       "      <th>ID_Transacao</th>\n",
       "      <th>ID_Cliente</th>\n",
       "      <th>Nome_Cliente</th>\n",
       "      <th>Tipo_Servico</th>\n",
       "      <th>Data_Servico</th>\n",
       "      <th>Valor_Servico</th>\n",
       "      <th>Forma_Pagamento</th>\n",
       "      <th>ID_Funcionario</th>\n",
       "      <th>Nome_Funcionario</th>\n",
       "      <th>Avaliacao_Servico</th>\n",
       "      <th>Feedback</th>\n",
       "      <th>data_carga</th>\n",
       "    </tr>\n",
       "  </thead>\n",
       "  <tbody>\n",
       "    <tr>\n",
       "      <th>0</th>\n",
       "      <td>1</td>\n",
       "      <td>115</td>\n",
       "      <td>Srta. Luiza da Luz</td>\n",
       "      <td>Corte de cabelo</td>\n",
       "      <td>2022-07-18</td>\n",
       "      <td>64.08</td>\n",
       "      <td>Cartão</td>\n",
       "      <td>1</td>\n",
       "      <td>João Silva</td>\n",
       "      <td>5</td>\n",
       "      <td>Serviço excelente, adorei o corte!</td>\n",
       "      <td>2024-10-08 18:04:31.678084</td>\n",
       "    </tr>\n",
       "    <tr>\n",
       "      <th>1</th>\n",
       "      <td>2</td>\n",
       "      <td>433</td>\n",
       "      <td>Marina Ferreira</td>\n",
       "      <td>Corte de cabelo</td>\n",
       "      <td>2021-03-03</td>\n",
       "      <td>36.87</td>\n",
       "      <td>Cartão</td>\n",
       "      <td>1</td>\n",
       "      <td>João Silva</td>\n",
       "      <td>5</td>\n",
       "      <td>Muito satisfeito com o atendimento, voltarei c...</td>\n",
       "      <td>2024-10-08 18:04:31.678084</td>\n",
       "    </tr>\n",
       "    <tr>\n",
       "      <th>2</th>\n",
       "      <td>3</td>\n",
       "      <td>559</td>\n",
       "      <td>Maria Cecília Cardoso</td>\n",
       "      <td>Tratamento capilar</td>\n",
       "      <td>2022-03-28</td>\n",
       "      <td>100.86</td>\n",
       "      <td>Dinheiro</td>\n",
       "      <td>1</td>\n",
       "      <td>João Silva</td>\n",
       "      <td>2</td>\n",
       "      <td>Serviço abaixo da expectativa, faltou capricho.</td>\n",
       "      <td>2024-10-08 18:04:31.678084</td>\n",
       "    </tr>\n",
       "    <tr>\n",
       "      <th>3</th>\n",
       "      <td>4</td>\n",
       "      <td>349</td>\n",
       "      <td>Miguel Castro</td>\n",
       "      <td>Corte e barba</td>\n",
       "      <td>2021-11-15</td>\n",
       "      <td>58.76</td>\n",
       "      <td>Dinheiro</td>\n",
       "      <td>1</td>\n",
       "      <td>João Silva</td>\n",
       "      <td>1</td>\n",
       "      <td>Não gostei, o profissional foi desatento e o c...</td>\n",
       "      <td>2024-10-08 18:04:31.678084</td>\n",
       "    </tr>\n",
       "    <tr>\n",
       "      <th>4</th>\n",
       "      <td>5</td>\n",
       "      <td>100</td>\n",
       "      <td>Maria Sophia Martins</td>\n",
       "      <td>Corte e barba</td>\n",
       "      <td>2022-12-06</td>\n",
       "      <td>128.67</td>\n",
       "      <td>Cartão</td>\n",
       "      <td>4</td>\n",
       "      <td>Ana Lima</td>\n",
       "      <td>5</td>\n",
       "      <td>Serviço excelente, adorei o corte!</td>\n",
       "      <td>2024-10-08 18:04:31.678084</td>\n",
       "    </tr>\n",
       "  </tbody>\n",
       "</table>\n",
       "</div>"
      ],
      "text/plain": [
       "   ID_Transacao  ID_Cliente           Nome_Cliente        Tipo_Servico  \\\n",
       "0             1         115     Srta. Luiza da Luz     Corte de cabelo   \n",
       "1             2         433        Marina Ferreira     Corte de cabelo   \n",
       "2             3         559  Maria Cecília Cardoso  Tratamento capilar   \n",
       "3             4         349          Miguel Castro       Corte e barba   \n",
       "4             5         100   Maria Sophia Martins       Corte e barba   \n",
       "\n",
       "  Data_Servico  Valor_Servico Forma_Pagamento  ID_Funcionario  \\\n",
       "0   2022-07-18          64.08          Cartão               1   \n",
       "1   2021-03-03          36.87          Cartão               1   \n",
       "2   2022-03-28         100.86        Dinheiro               1   \n",
       "3   2021-11-15          58.76        Dinheiro               1   \n",
       "4   2022-12-06         128.67          Cartão               4   \n",
       "\n",
       "  Nome_Funcionario  Avaliacao_Servico  \\\n",
       "0       João Silva                  5   \n",
       "1       João Silva                  5   \n",
       "2       João Silva                  2   \n",
       "3       João Silva                  1   \n",
       "4         Ana Lima                  5   \n",
       "\n",
       "                                            Feedback  \\\n",
       "0                 Serviço excelente, adorei o corte!   \n",
       "1  Muito satisfeito com o atendimento, voltarei c...   \n",
       "2    Serviço abaixo da expectativa, faltou capricho.   \n",
       "3  Não gostei, o profissional foi desatento e o c...   \n",
       "4                 Serviço excelente, adorei o corte!   \n",
       "\n",
       "                  data_carga  \n",
       "0 2024-10-08 18:04:31.678084  \n",
       "1 2024-10-08 18:04:31.678084  \n",
       "2 2024-10-08 18:04:31.678084  \n",
       "3 2024-10-08 18:04:31.678084  \n",
       "4 2024-10-08 18:04:31.678084  "
      ]
     },
     "execution_count": 14,
     "metadata": {},
     "output_type": "execute_result"
    }
   ],
   "source": [
    "df.head(5)"
   ]
  },
  {
   "cell_type": "code",
   "execution_count": 12,
   "metadata": {},
   "outputs": [
    {
     "data": {
      "text/plain": [
       "1000"
      ]
     },
     "execution_count": 12,
     "metadata": {},
     "output_type": "execute_result"
    }
   ],
   "source": [
    "df.to_sql('source_barbearia_dataset', index=False, con=engine, schema='raw', if_exists='replace')"
   ]
  },
  {
   "cell_type": "code",
   "execution_count": null,
   "metadata": {},
   "outputs": [],
   "source": []
  }
 ],
 "metadata": {
  "kernelspec": {
   "display_name": "base",
   "language": "python",
   "name": "python3"
  },
  "language_info": {
   "codemirror_mode": {
    "name": "ipython",
    "version": 3
   },
   "file_extension": ".py",
   "mimetype": "text/x-python",
   "name": "python",
   "nbconvert_exporter": "python",
   "pygments_lexer": "ipython3",
   "version": "3.10.9"
  }
 },
 "nbformat": 4,
 "nbformat_minor": 2
}
